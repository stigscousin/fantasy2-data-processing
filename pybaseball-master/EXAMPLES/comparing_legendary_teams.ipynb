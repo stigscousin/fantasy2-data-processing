{
 "cells": [
  {
   "cell_type": "markdown",
   "metadata": {},
   "source": [
    "# Comparing the Dominance of Three of the Best All-Time Teams\n",
    "A quick analysis and visuzliation of three of the best baseball seasons that have ever happened: the 1976 Cincinnati Reds, 2001 Seattle Mariners, and the 1927 \"Murderers Row\" New York Yankees."
   ]
  },
  {
   "cell_type": "code",
   "execution_count": 1,
   "metadata": {
    "collapsed": false
   },
   "outputs": [],
   "source": [
    "from pybaseball import schedule_and_record\n",
    "import numpy as np\n",
    "import matplotlib.pyplot as plt\n",
    "%matplotlib inline"
   ]
  },
  {
   "cell_type": "code",
   "execution_count": 2,
   "metadata": {
    "collapsed": true
   },
   "outputs": [],
   "source": [
    "yankees = schedule_and_record(1927, 'NYY')\n",
    "reds = schedule_and_record(1976, 'CIN')\n",
    "mariners = schedule_and_record(2001, 'SEA')"
   ]
  },
  {
   "cell_type": "markdown",
   "metadata": {},
   "source": [
    "## Summary Statistics\n",
    "\n",
    "Let's start by looking at some summary stats on each team's season. The '01 Mainers had the best hot streak of all, winning 15 straight at one point. The '27 Yankees, however, had the highest scoring offense with an impressive 6.3 runs per game. "
   ]
  },
  {
   "cell_type": "code",
   "execution_count": 3,
   "metadata": {
    "collapsed": false
   },
   "outputs": [
    {
     "data": {
      "text/html": [
       "<div>\n",
       "<style>\n",
       "    .dataframe thead tr:only-child th {\n",
       "        text-align: right;\n",
       "    }\n",
       "\n",
       "    .dataframe thead th {\n",
       "        text-align: left;\n",
       "    }\n",
       "\n",
       "    .dataframe tbody tr th {\n",
       "        vertical-align: top;\n",
       "    }\n",
       "</style>\n",
       "<table border=\"1\" class=\"dataframe\">\n",
       "  <thead>\n",
       "    <tr style=\"text-align: right;\">\n",
       "      <th></th>\n",
       "      <th>R</th>\n",
       "      <th>RA</th>\n",
       "      <th>Inn</th>\n",
       "      <th>Rank</th>\n",
       "      <th>Attendance</th>\n",
       "      <th>Streak</th>\n",
       "    </tr>\n",
       "  </thead>\n",
       "  <tbody>\n",
       "    <tr>\n",
       "      <th>count</th>\n",
       "      <td>162.000000</td>\n",
       "      <td>162.000000</td>\n",
       "      <td>162.000000</td>\n",
       "      <td>162.0</td>\n",
       "      <td>162.000000</td>\n",
       "      <td>162.000000</td>\n",
       "    </tr>\n",
       "    <tr>\n",
       "      <th>mean</th>\n",
       "      <td>5.722222</td>\n",
       "      <td>3.870370</td>\n",
       "      <td>9.166667</td>\n",
       "      <td>1.0</td>\n",
       "      <td>37564.376543</td>\n",
       "      <td>2.080247</td>\n",
       "    </tr>\n",
       "    <tr>\n",
       "      <th>std</th>\n",
       "      <td>3.406698</td>\n",
       "      <td>3.009589</td>\n",
       "      <td>0.680245</td>\n",
       "      <td>0.0</td>\n",
       "      <td>10771.969761</td>\n",
       "      <td>3.315648</td>\n",
       "    </tr>\n",
       "    <tr>\n",
       "      <th>min</th>\n",
       "      <td>0.000000</td>\n",
       "      <td>0.000000</td>\n",
       "      <td>9.000000</td>\n",
       "      <td>1.0</td>\n",
       "      <td>11687.000000</td>\n",
       "      <td>-4.000000</td>\n",
       "    </tr>\n",
       "    <tr>\n",
       "      <th>25%</th>\n",
       "      <td>3.000000</td>\n",
       "      <td>2.000000</td>\n",
       "      <td>9.000000</td>\n",
       "      <td>1.0</td>\n",
       "      <td>30071.000000</td>\n",
       "      <td>-1.000000</td>\n",
       "    </tr>\n",
       "    <tr>\n",
       "      <th>50%</th>\n",
       "      <td>5.000000</td>\n",
       "      <td>3.000000</td>\n",
       "      <td>9.000000</td>\n",
       "      <td>1.0</td>\n",
       "      <td>42362.000000</td>\n",
       "      <td>2.000000</td>\n",
       "    </tr>\n",
       "    <tr>\n",
       "      <th>75%</th>\n",
       "      <td>8.000000</td>\n",
       "      <td>5.000000</td>\n",
       "      <td>9.000000</td>\n",
       "      <td>1.0</td>\n",
       "      <td>45651.750000</td>\n",
       "      <td>3.000000</td>\n",
       "    </tr>\n",
       "    <tr>\n",
       "      <th>max</th>\n",
       "      <td>16.000000</td>\n",
       "      <td>15.000000</td>\n",
       "      <td>14.000000</td>\n",
       "      <td>1.0</td>\n",
       "      <td>61065.000000</td>\n",
       "      <td>15.000000</td>\n",
       "    </tr>\n",
       "  </tbody>\n",
       "</table>\n",
       "</div>"
      ],
      "text/plain": [
       "                R          RA         Inn   Rank    Attendance      Streak\n",
       "count  162.000000  162.000000  162.000000  162.0    162.000000  162.000000\n",
       "mean     5.722222    3.870370    9.166667    1.0  37564.376543    2.080247\n",
       "std      3.406698    3.009589    0.680245    0.0  10771.969761    3.315648\n",
       "min      0.000000    0.000000    9.000000    1.0  11687.000000   -4.000000\n",
       "25%      3.000000    2.000000    9.000000    1.0  30071.000000   -1.000000\n",
       "50%      5.000000    3.000000    9.000000    1.0  42362.000000    2.000000\n",
       "75%      8.000000    5.000000    9.000000    1.0  45651.750000    3.000000\n",
       "max     16.000000   15.000000   14.000000    1.0  61065.000000   15.000000"
      ]
     },
     "execution_count": 3,
     "metadata": {},
     "output_type": "execute_result"
    }
   ],
   "source": [
    "mariners.describe()"
   ]
  },
  {
   "cell_type": "code",
   "execution_count": 4,
   "metadata": {
    "collapsed": false
   },
   "outputs": [
    {
     "data": {
      "text/html": [
       "<div>\n",
       "<style>\n",
       "    .dataframe thead tr:only-child th {\n",
       "        text-align: right;\n",
       "    }\n",
       "\n",
       "    .dataframe thead th {\n",
       "        text-align: left;\n",
       "    }\n",
       "\n",
       "    .dataframe tbody tr th {\n",
       "        vertical-align: top;\n",
       "    }\n",
       "</style>\n",
       "<table border=\"1\" class=\"dataframe\">\n",
       "  <thead>\n",
       "    <tr style=\"text-align: right;\">\n",
       "      <th></th>\n",
       "      <th>R</th>\n",
       "      <th>RA</th>\n",
       "      <th>Inn</th>\n",
       "      <th>Rank</th>\n",
       "      <th>Attendance</th>\n",
       "      <th>Streak</th>\n",
       "    </tr>\n",
       "  </thead>\n",
       "  <tbody>\n",
       "    <tr>\n",
       "      <th>count</th>\n",
       "      <td>162.000000</td>\n",
       "      <td>162.000000</td>\n",
       "      <td>162.000000</td>\n",
       "      <td>162.000000</td>\n",
       "      <td>154.000000</td>\n",
       "      <td>162.000000</td>\n",
       "    </tr>\n",
       "    <tr>\n",
       "      <th>mean</th>\n",
       "      <td>5.290123</td>\n",
       "      <td>3.907407</td>\n",
       "      <td>9.246914</td>\n",
       "      <td>1.135802</td>\n",
       "      <td>29033.474026</td>\n",
       "      <td>0.839506</td>\n",
       "    </tr>\n",
       "    <tr>\n",
       "      <th>std</th>\n",
       "      <td>3.330048</td>\n",
       "      <td>2.797083</td>\n",
       "      <td>1.033968</td>\n",
       "      <td>0.361264</td>\n",
       "      <td>13331.318368</td>\n",
       "      <td>2.084887</td>\n",
       "    </tr>\n",
       "    <tr>\n",
       "      <th>min</th>\n",
       "      <td>0.000000</td>\n",
       "      <td>0.000000</td>\n",
       "      <td>7.000000</td>\n",
       "      <td>1.000000</td>\n",
       "      <td>5219.000000</td>\n",
       "      <td>-4.000000</td>\n",
       "    </tr>\n",
       "    <tr>\n",
       "      <th>25%</th>\n",
       "      <td>3.000000</td>\n",
       "      <td>2.000000</td>\n",
       "      <td>9.000000</td>\n",
       "      <td>1.000000</td>\n",
       "      <td>18227.250000</td>\n",
       "      <td>-1.000000</td>\n",
       "    </tr>\n",
       "    <tr>\n",
       "      <th>50%</th>\n",
       "      <td>5.000000</td>\n",
       "      <td>3.000000</td>\n",
       "      <td>9.000000</td>\n",
       "      <td>1.000000</td>\n",
       "      <td>28114.000000</td>\n",
       "      <td>1.000000</td>\n",
       "    </tr>\n",
       "    <tr>\n",
       "      <th>75%</th>\n",
       "      <td>7.000000</td>\n",
       "      <td>5.000000</td>\n",
       "      <td>9.000000</td>\n",
       "      <td>1.000000</td>\n",
       "      <td>38292.500000</td>\n",
       "      <td>2.000000</td>\n",
       "    </tr>\n",
       "    <tr>\n",
       "      <th>max</th>\n",
       "      <td>14.000000</td>\n",
       "      <td>14.000000</td>\n",
       "      <td>16.000000</td>\n",
       "      <td>3.000000</td>\n",
       "      <td>53652.000000</td>\n",
       "      <td>7.000000</td>\n",
       "    </tr>\n",
       "  </tbody>\n",
       "</table>\n",
       "</div>"
      ],
      "text/plain": [
       "                R          RA         Inn        Rank    Attendance  \\\n",
       "count  162.000000  162.000000  162.000000  162.000000    154.000000   \n",
       "mean     5.290123    3.907407    9.246914    1.135802  29033.474026   \n",
       "std      3.330048    2.797083    1.033968    0.361264  13331.318368   \n",
       "min      0.000000    0.000000    7.000000    1.000000   5219.000000   \n",
       "25%      3.000000    2.000000    9.000000    1.000000  18227.250000   \n",
       "50%      5.000000    3.000000    9.000000    1.000000  28114.000000   \n",
       "75%      7.000000    5.000000    9.000000    1.000000  38292.500000   \n",
       "max     14.000000   14.000000   16.000000    3.000000  53652.000000   \n",
       "\n",
       "           Streak  \n",
       "count  162.000000  \n",
       "mean     0.839506  \n",
       "std      2.084887  \n",
       "min     -4.000000  \n",
       "25%     -1.000000  \n",
       "50%      1.000000  \n",
       "75%      2.000000  \n",
       "max      7.000000  "
      ]
     },
     "execution_count": 4,
     "metadata": {},
     "output_type": "execute_result"
    }
   ],
   "source": [
    "reds.describe()"
   ]
  },
  {
   "cell_type": "code",
   "execution_count": 5,
   "metadata": {
    "collapsed": false,
    "scrolled": true
   },
   "outputs": [
    {
     "data": {
      "text/html": [
       "<div>\n",
       "<style>\n",
       "    .dataframe thead tr:only-child th {\n",
       "        text-align: right;\n",
       "    }\n",
       "\n",
       "    .dataframe thead th {\n",
       "        text-align: left;\n",
       "    }\n",
       "\n",
       "    .dataframe tbody tr th {\n",
       "        vertical-align: top;\n",
       "    }\n",
       "</style>\n",
       "<table border=\"1\" class=\"dataframe\">\n",
       "  <thead>\n",
       "    <tr style=\"text-align: right;\">\n",
       "      <th></th>\n",
       "      <th>R</th>\n",
       "      <th>RA</th>\n",
       "      <th>Inn</th>\n",
       "      <th>Rank</th>\n",
       "      <th>Attendance</th>\n",
       "      <th>Streak</th>\n",
       "    </tr>\n",
       "  </thead>\n",
       "  <tbody>\n",
       "    <tr>\n",
       "      <th>count</th>\n",
       "      <td>155.000000</td>\n",
       "      <td>155.000000</td>\n",
       "      <td>155.000000</td>\n",
       "      <td>155.0</td>\n",
       "      <td>132.000000</td>\n",
       "      <td>155.000000</td>\n",
       "    </tr>\n",
       "    <tr>\n",
       "      <th>mean</th>\n",
       "      <td>6.290323</td>\n",
       "      <td>3.864516</td>\n",
       "      <td>9.103226</td>\n",
       "      <td>1.0</td>\n",
       "      <td>20977.787879</td>\n",
       "      <td>1.735484</td>\n",
       "    </tr>\n",
       "    <tr>\n",
       "      <th>std</th>\n",
       "      <td>3.939424</td>\n",
       "      <td>2.817103</td>\n",
       "      <td>0.968157</td>\n",
       "      <td>0.0</td>\n",
       "      <td>14789.945028</td>\n",
       "      <td>2.588881</td>\n",
       "    </tr>\n",
       "    <tr>\n",
       "      <th>min</th>\n",
       "      <td>0.000000</td>\n",
       "      <td>0.000000</td>\n",
       "      <td>5.000000</td>\n",
       "      <td>1.0</td>\n",
       "      <td>1500.000000</td>\n",
       "      <td>-4.000000</td>\n",
       "    </tr>\n",
       "    <tr>\n",
       "      <th>25%</th>\n",
       "      <td>3.000000</td>\n",
       "      <td>2.000000</td>\n",
       "      <td>9.000000</td>\n",
       "      <td>1.0</td>\n",
       "      <td>10000.000000</td>\n",
       "      <td>-1.000000</td>\n",
       "    </tr>\n",
       "    <tr>\n",
       "      <th>50%</th>\n",
       "      <td>6.000000</td>\n",
       "      <td>3.000000</td>\n",
       "      <td>9.000000</td>\n",
       "      <td>1.0</td>\n",
       "      <td>15500.000000</td>\n",
       "      <td>2.000000</td>\n",
       "    </tr>\n",
       "    <tr>\n",
       "      <th>75%</th>\n",
       "      <td>8.000000</td>\n",
       "      <td>6.000000</td>\n",
       "      <td>9.000000</td>\n",
       "      <td>1.0</td>\n",
       "      <td>30000.000000</td>\n",
       "      <td>3.000000</td>\n",
       "    </tr>\n",
       "    <tr>\n",
       "      <th>max</th>\n",
       "      <td>21.000000</td>\n",
       "      <td>14.000000</td>\n",
       "      <td>18.000000</td>\n",
       "      <td>1.0</td>\n",
       "      <td>72641.000000</td>\n",
       "      <td>9.000000</td>\n",
       "    </tr>\n",
       "  </tbody>\n",
       "</table>\n",
       "</div>"
      ],
      "text/plain": [
       "                R          RA         Inn   Rank    Attendance      Streak\n",
       "count  155.000000  155.000000  155.000000  155.0    132.000000  155.000000\n",
       "mean     6.290323    3.864516    9.103226    1.0  20977.787879    1.735484\n",
       "std      3.939424    2.817103    0.968157    0.0  14789.945028    2.588881\n",
       "min      0.000000    0.000000    5.000000    1.0   1500.000000   -4.000000\n",
       "25%      3.000000    2.000000    9.000000    1.0  10000.000000   -1.000000\n",
       "50%      6.000000    3.000000    9.000000    1.0  15500.000000    2.000000\n",
       "75%      8.000000    6.000000    9.000000    1.0  30000.000000    3.000000\n",
       "max     21.000000   14.000000   18.000000    1.0  72641.000000    9.000000"
      ]
     },
     "execution_count": 5,
     "metadata": {},
     "output_type": "execute_result"
    }
   ],
   "source": [
    "yankees.describe()"
   ]
  },
  {
   "cell_type": "markdown",
   "metadata": {},
   "source": [
    "# Next let's take a look at their records and runs.\n",
    "Here the Yankees and Mariners are similar, while the Big Red Machine lags behind. Point Mariners and Yankees. "
   ]
  },
  {
   "cell_type": "code",
   "execution_count": 6,
   "metadata": {
    "collapsed": false
   },
   "outputs": [],
   "source": [
    "# create a numeric indicator of a win and take cumulative sum of wins-to-date at each point in the season\n",
    "mariners['win-count'] = np.where(mariners['W/L']=='W', 1, 0).cumsum()\n",
    "yankees['win-count'] = np.where(yankees['W/L']=='W', 1, 0).cumsum()\n",
    "reds['win-count'] = np.where(reds['W/L']=='W', 1, 0).cumsum()"
   ]
  },
  {
   "cell_type": "code",
   "execution_count": 7,
   "metadata": {
    "collapsed": false,
    "scrolled": true
   },
   "outputs": [
    {
     "data": {
      "image/png": "[encoded data removed]",
      "text/plain": [
       "<matplotlib.figure.Figure at 0x10c1fde50>"
      ]
     },
     "metadata": {},
     "output_type": "display_data"
    }
   ],
   "source": [
    "plt.plot(mariners['win-count'],label=\" '01 Mariners\")\n",
    "plt.plot(yankees['win-count'],label=\" '27 Yankees\")\n",
    "plt.plot(reds['win-count'],label=\" '76 Reds\")\n",
    "plt.legend(loc=4)\n",
    "plt.xlabel('Games into Season')\n",
    "plt.ylabel('Win Count')\n",
    "plt.title('Record Throughout Season');"
   ]
  },
  {
   "cell_type": "markdown",
   "metadata": {},
   "source": [
    "# Last let's take a look at score differential\n",
    "\n",
    "Who had the largest win margins? The plot below shows cumulative run differential throughout the season. The Yankees are the clear winners of this one, which is saying a lot considering they are being compared against two of the best teams of all time! Point Murderers Row. "
   ]
  },
  {
   "cell_type": "code",
   "execution_count": 8,
   "metadata": {
    "collapsed": true
   },
   "outputs": [],
   "source": [
    "mariners['scorediff'] = (mariners['R'] - mariners['RA']).cumsum()\n",
    "yankees['scorediff'] = (yankees['R'] - yankees['RA']).cumsum()\n",
    "reds['scorediff'] = (reds['R'] - reds['RA']).cumsum()"
   ]
  },
  {
   "cell_type": "code",
   "execution_count": 9,
   "metadata": {
    "collapsed": false,
    "scrolled": true
   },
   "outputs": [
    {
     "data": {
      "image/png": "[encoded data removed]",
      "text/plain": [
       "<matplotlib.figure.Figure at 0x10ad7ebd0>"
      ]
     },
     "metadata": {},
     "output_type": "display_data"
    }
   ],
   "source": [
    "plt.plot(mariners['scorediff'],label=\" '01 Mariners\")\n",
    "plt.plot(yankees['scorediff'],label=\" '27 Yankees\")\n",
    "plt.plot(reds['scorediff'],label=\" '76 Reds\")\n",
    "plt.legend(loc=4)\n",
    "plt.xlabel('Games into Season')\n",
    "plt.ylabel('Runs Scored - Runs Against')\n",
    "plt.title('Cumulative Run Differential');"
   ]
  },
  {
   "cell_type": "markdown",
   "metadata": {},
   "source": [
    "While all three legendary seasons are memorable, this brief analysis points toward the 1927 Yankees as being the best of the three. "
   ]
  }
 ],
 "metadata": {
  "kernelspec": {
   "display_name": "Python 2",
   "language": "python",
   "name": "python2"
  },
  "language_info": {
   "codemirror_mode": {
    "name": "ipython",
    "version": 2
   },
   "file_extension": ".py",
   "mimetype": "text/x-python",
   "name": "python",
   "nbconvert_exporter": "python",
   "pygments_lexer": "ipython2",
   "version": "2.7.9"
  }
 },
 "nbformat": 4,
 "nbformat_minor": 0
}
